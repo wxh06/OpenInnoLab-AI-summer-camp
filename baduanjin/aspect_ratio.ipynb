{
 "cells": [
  {
   "cell_type": "code",
   "execution_count": 1,
   "metadata": {},
   "outputs": [],
   "source": [
    "import tensorflow as tf\n"
   ]
  },
  {
   "cell_type": "code",
   "execution_count": 2,
   "metadata": {},
   "outputs": [
    {
     "name": "stderr",
     "output_type": "stream",
     "text": [
      "2023-07-22 22:03:48.359049: I metal_plugin/src/device/metal_device.cc:1154] Metal device set to: Apple M1\n",
      "2023-07-22 22:03:48.359068: I metal_plugin/src/device/metal_device.cc:296] systemMemory: 16.00 GB\n",
      "2023-07-22 22:03:48.359074: I metal_plugin/src/device/metal_device.cc:313] maxCacheSize: 5.33 GB\n",
      "2023-07-22 22:03:48.359105: I tensorflow/core/common_runtime/pluggable_device/pluggable_device_factory.cc:303] Could not identify NUMA node of platform GPU ID 0, defaulting to 0. Your kernel may not have been built with NUMA support.\n",
      "2023-07-22 22:03:48.359120: I tensorflow/core/common_runtime/pluggable_device/pluggable_device_factory.cc:269] Created TensorFlow device (/job:localhost/replica:0/task:0/device:GPU:0 with 0 MB memory) -> physical PluggableDevice (device: 0, name: METAL, pci bus id: <undefined>)\n"
     ]
    },
    {
     "data": {
      "text/plain": [
       "[0.3781051254770246,\n",
       " 0.7652940632793788,\n",
       " 0.47574339868889404,\n",
       " 0.6434522435014227,\n",
       " 0.7354349579751229,\n",
       " 0.6205321631350741,\n",
       " 0.6244408278621749,\n",
       " 0.3357089229293237]"
      ]
     },
     "execution_count": 2,
     "metadata": {},
     "output_type": "execute_result"
    }
   ],
   "source": [
    "[\n",
    "    tf.math.reduce_mean(\n",
    "        list(\n",
    "            tf.data.Dataset.list_files(f\"data/pose{i}/*.jpg\")\n",
    "            .map(tf.io.read_file, tf.data.AUTOTUNE, False)\n",
    "            .map(tf.image.decode_jpeg, tf.data.AUTOTUNE, False)\n",
    "            .map(tf.shape, tf.data.AUTOTUNE, False)\n",
    "            .map(lambda shape: shape[1] / shape[0], tf.data.AUTOTUNE, False)\n",
    "        )\n",
    "    ).numpy()\n",
    "    for i in range(1, 9)\n",
    "]\n"
   ]
  }
 ],
 "metadata": {
  "kernelspec": {
   "display_name": "pose",
   "language": "python",
   "name": "python3"
  },
  "language_info": {
   "codemirror_mode": {
    "name": "ipython",
    "version": 3
   },
   "file_extension": ".py",
   "mimetype": "text/x-python",
   "name": "python",
   "nbconvert_exporter": "python",
   "pygments_lexer": "ipython3",
   "version": "3.11.4"
  },
  "orig_nbformat": 4
 },
 "nbformat": 4,
 "nbformat_minor": 2
}
